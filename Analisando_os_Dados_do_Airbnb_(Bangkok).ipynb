{
  "nbformat": 4,
  "nbformat_minor": 0,
  "metadata": {
    "colab": {
      "name": "Analisando os Dados do Airbnb (Bangkok).ipynb",
      "provenance": [],
      "collapsed_sections": [],
      "include_colab_link": true
    },
    "kernelspec": {
      "name": "python3",
      "display_name": "Python 3"
    }
  },
  "cells": [
    {
      "cell_type": "markdown",
      "metadata": {
        "id": "view-in-github",
        "colab_type": "text"
      },
      "source": [
        "<a href=\"https://colab.research.google.com/github/monteiro-fernando/Data_Science/blob/main/Analisando_os_Dados_do_Airbnb_(Bangkok).ipynb\" target=\"_parent\"><img src=\"https://colab.research.google.com/assets/colab-badge.svg\" alt=\"Open In Colab\"/></a>"
      ]
    },
    {
      "cell_type": "markdown",
      "metadata": {
        "id": "kLI0gJtzDGuQ"
      },
      "source": [
        "<img alt=\"Sigmoidal logo\" width=\"15%\" src=\"https://raw.githubusercontent.com/carlosfab/escola-data-science/master/img/novo_logo_bg_claro.png\">\n",
        "\n",
        "#### **Data Science na Prática**\n",
        "*by [sigmoidal.ai](https://sigmoidal.ai)*\n",
        "\n",
        "---\n",
        "\n",
        "# Análise dos Dados do Airbnb - *Bangkok*\n",
        "\n",
        "O [Airbnb](https://www.airbnb.com.br/) já é considerado como sendo a **maior empresa hoteleira da atualidade**. Ah, o detalhe é que ele **não possui nenhum hotel**!\n",
        "\n",
        "Conectando pessoas que querem viajar (e se hospedar) com anfitriões que querem alugar seus imóveis de maneira prática, o Airbnb fornece uma plataforma inovadora para tornar essa hospedagem alternativa.\n",
        "\n",
        "No final de 2018, a Startup fundada 10 anos atrás, já havia **hospedado mais de 300 milhões** de pessoas ao redor de todo o mundo, desafiando as redes hoteleiras tradicionais.\n",
        "\n",
        "Uma das iniciativas do Airbnb é disponibilizar dados do site, para algumas das principais cidades do mundo. Por meio do portal [Inside Airbnb](http://insideairbnb.com/get-the-data.html), é possível baixar uma grande quantidade de dados para desenvolver projetos e soluções de *Data Science*.\n",
        "\n",
        "<center><img alt=\"Airbnb\" width=\"30%\" src=\"https://raw.githubusercontent.com/monteiro-fernando/Data_Science/main/img/Airbnb_Logo.png\"></center>\n",
        "\n",
        "**Neste *notebook*, iremos analisar os dados referentes à cidade de Bangkok na Tailândia, e ver quais insights podem ser extraídos a partir de dados brutos.**"
      ]
    },
    {
      "cell_type": "markdown",
      "metadata": {
        "id": "1P-o2ks3vi3t"
      },
      "source": [
        "## Bangkok, \"A Cidade dos Anjos\"\n",
        "<center><img alt=\"Bangkok\" width=\"100%\" src=\"https://raw.githubusercontent.com/monteiro-fernando/Data_Science/main/img/Bangkok.jpg\"></center>\n",
        "\n",
        "A escolha pela cidade de Bangkok para fazer esta análise se deu, primeiramente, porque farei uma viagem para lá em novembro (se tudo der certo..rs), e também por se tratar de uma das cidades mais visitadas do mundo, segundo a [Forbes](https://www.forbes.com/sites/alexandratalty/2018/09/25/bangkok-is-named-most-visited-city-in-the-world-again/?sh=167b0f584071).\n",
        "\n",
        "Bangkok é a capital da Tailândia, sendo mundialmente conhecida pela enorme quantidade de templos (mais de 400), pela circulação frenética de pessoas, carros, motos e por seus famosos [\"Tuk-Tuks\"](https://forevervacation.com/the-vacationer/everything-you-need-to-know-about-tuk-tuks-in-bangkok).\n",
        "\n",
        "A moeda utilizada na Tailândia é o *Baht*, sendo que **1 *Baht* equivale a aproximadamente 18 centavos** (cotação referente à 05/02/21).\n",
        "\n",
        "A melhor época para visita acontece entre os meses de novembro a fevereiro, quando o clima fica mais ameno e com uma menor ocorrência de chuvas.\n",
        "\n",
        "\n",
        "\n",
        "\n",
        "**Agora que já tivemos uma breve introdução sobre o destino, mãos à obra!**"
      ]
    },
    {
      "cell_type": "markdown",
      "metadata": {
        "id": "0zxQHhIUDF_2"
      },
      "source": [
        "## Obtenção dos Dados\n",
        "\n",
        "Todos os dados usados aqui foram obtidos a partir do site [Inside Airbnb](http://insideairbnb.com/get-the-data.html).\n",
        "\n",
        "Para esta análise exploratória inicial, será utilizado apenas o seguinte arquivo:\n",
        "\n",
        "* `listings.csv` - *Summary information and metrics for listings in Bangkok (good for visualisations).*\n"
      ]
    },
    {
      "cell_type": "code",
      "metadata": {
        "id": "Vhp2wMPgJ6zX"
      },
      "source": [
        "# importar os pacotes necessarios\n",
        "import pandas as pd\n",
        "import matplotlib.pyplot as plt\n",
        "import seaborn as sns\n",
        "%matplotlib inline"
      ],
      "execution_count": 1,
      "outputs": []
    },
    {
      "cell_type": "code",
      "metadata": {
        "id": "tUmoAT8DLQ5T"
      },
      "source": [
        "# importar o arquivo listings.csv para um DataFrame\n",
        "df = pd.read_csv(\"http://data.insideairbnb.com/thailand/central-thailand/bangkok/2020-12-23/visualisations/listings.csv\")"
      ],
      "execution_count": 2,
      "outputs": []
    },
    {
      "cell_type": "markdown",
      "metadata": {
        "id": "qb5By2nIMS6m"
      },
      "source": [
        "## Análise dos Dados\n"
      ]
    },
    {
      "cell_type": "markdown",
      "metadata": {
        "id": "RYgvuebKNg8-"
      },
      "source": [
        "**Dicionário das variáveis**\n",
        "\n",
        "* `id` - número de identificação do imóvel\n",
        "* `name` - nome do anúncio da propriedade\n",
        "* `host_id` - número de identificação do proprietário (anfitrião) do imóvel\n",
        "* `host_name` - Nome do anfitrião\n",
        "* `neighbourhood_group` - esta coluna não contém nenhum valor válido\n",
        "* `neighbourhood` - nome do bairro\n",
        "* `latitude` - coordenada da latitude da propriedade\n",
        "* `longitude` - coordenada da longitude da propriedade\n",
        "* `room_type` - tipo de quarto oferecido\n",
        "* `price` - preço da diária do imóvel (em Baht - moeda tailandesa)\n",
        "* `minimum_nights` - quantidade mínima de noites para reservar\n",
        "* `number_of_reviews` - número de reviews que a propriedade possui\n",
        "* `last_review` - data do último review\n",
        "* `reviews_per_month` - quantidade de reviews por mês\n",
        "* `calculated_host_listings_count` - quantidade de imóveis do mesmo anfitrião\n",
        "* `availability_365` - número de dias de disponibilidade dentro de 365 dias\n",
        "\n",
        "Antes de iniciar qualquer análise, vamos verificar a cara do nosso *dataset*, visualizando as 5 primeiras entradas."
      ]
    },
    {
      "cell_type": "code",
      "metadata": {
        "id": "2iS_dae7YQtO",
        "colab": {
          "base_uri": "https://localhost:8080/",
          "height": 406
        },
        "outputId": "4ff2ca49-c765-4d6f-bb02-302dbc74c7de"
      },
      "source": [
        "# mostrar as 5 primeiras entradas\n",
        "df.head()"
      ],
      "execution_count": 3,
      "outputs": [
        {
          "output_type": "execute_result",
          "data": {
            "text/html": [
              "<div>\n",
              "<style scoped>\n",
              "    .dataframe tbody tr th:only-of-type {\n",
              "        vertical-align: middle;\n",
              "    }\n",
              "\n",
              "    .dataframe tbody tr th {\n",
              "        vertical-align: top;\n",
              "    }\n",
              "\n",
              "    .dataframe thead th {\n",
              "        text-align: right;\n",
              "    }\n",
              "</style>\n",
              "<table border=\"1\" class=\"dataframe\">\n",
              "  <thead>\n",
              "    <tr style=\"text-align: right;\">\n",
              "      <th></th>\n",
              "      <th>id</th>\n",
              "      <th>name</th>\n",
              "      <th>host_id</th>\n",
              "      <th>host_name</th>\n",
              "      <th>neighbourhood_group</th>\n",
              "      <th>neighbourhood</th>\n",
              "      <th>latitude</th>\n",
              "      <th>longitude</th>\n",
              "      <th>room_type</th>\n",
              "      <th>price</th>\n",
              "      <th>minimum_nights</th>\n",
              "      <th>number_of_reviews</th>\n",
              "      <th>last_review</th>\n",
              "      <th>reviews_per_month</th>\n",
              "      <th>calculated_host_listings_count</th>\n",
              "      <th>availability_365</th>\n",
              "    </tr>\n",
              "  </thead>\n",
              "  <tbody>\n",
              "    <tr>\n",
              "      <th>0</th>\n",
              "      <td>27934</td>\n",
              "      <td>Nice room with superb city view</td>\n",
              "      <td>120437</td>\n",
              "      <td>Nuttee</td>\n",
              "      <td>NaN</td>\n",
              "      <td>Ratchathewi</td>\n",
              "      <td>13.76000</td>\n",
              "      <td>100.54269</td>\n",
              "      <td>Entire home/apt</td>\n",
              "      <td>1660</td>\n",
              "      <td>3</td>\n",
              "      <td>65</td>\n",
              "      <td>2020-01-06</td>\n",
              "      <td>0.61</td>\n",
              "      <td>2</td>\n",
              "      <td>362</td>\n",
              "    </tr>\n",
              "    <tr>\n",
              "      <th>1</th>\n",
              "      <td>27942</td>\n",
              "      <td>Town House (1) bedroom available</td>\n",
              "      <td>120462</td>\n",
              "      <td>Donald</td>\n",
              "      <td>NaN</td>\n",
              "      <td>Bangkok Yai</td>\n",
              "      <td>13.73463</td>\n",
              "      <td>100.47540</td>\n",
              "      <td>Private room</td>\n",
              "      <td>906</td>\n",
              "      <td>1</td>\n",
              "      <td>0</td>\n",
              "      <td>NaN</td>\n",
              "      <td>NaN</td>\n",
              "      <td>1</td>\n",
              "      <td>0</td>\n",
              "    </tr>\n",
              "    <tr>\n",
              "      <th>2</th>\n",
              "      <td>27979</td>\n",
              "      <td>Easy going landlord,easy place</td>\n",
              "      <td>120541</td>\n",
              "      <td>Emy</td>\n",
              "      <td>NaN</td>\n",
              "      <td>Bang Na</td>\n",
              "      <td>13.66746</td>\n",
              "      <td>100.61540</td>\n",
              "      <td>Private room</td>\n",
              "      <td>1148</td>\n",
              "      <td>1</td>\n",
              "      <td>0</td>\n",
              "      <td>NaN</td>\n",
              "      <td>NaN</td>\n",
              "      <td>2</td>\n",
              "      <td>358</td>\n",
              "    </tr>\n",
              "    <tr>\n",
              "      <th>3</th>\n",
              "      <td>28354</td>\n",
              "      <td>Place near Metro and Shopping Mall ( Monthly o...</td>\n",
              "      <td>121848</td>\n",
              "      <td>Jaruwan</td>\n",
              "      <td>NaN</td>\n",
              "      <td>Chatu Chak</td>\n",
              "      <td>13.80970</td>\n",
              "      <td>100.56527</td>\n",
              "      <td>Entire home/apt</td>\n",
              "      <td>1057</td>\n",
              "      <td>28</td>\n",
              "      <td>52</td>\n",
              "      <td>2019-12-09</td>\n",
              "      <td>0.41</td>\n",
              "      <td>1</td>\n",
              "      <td>364</td>\n",
              "    </tr>\n",
              "    <tr>\n",
              "      <th>4</th>\n",
              "      <td>28745</td>\n",
              "      <td>modern-style apartment in Bangkok</td>\n",
              "      <td>123784</td>\n",
              "      <td>Familyroom</td>\n",
              "      <td>NaN</td>\n",
              "      <td>Bang Kapi</td>\n",
              "      <td>13.75379</td>\n",
              "      <td>100.62422</td>\n",
              "      <td>Private room</td>\n",
              "      <td>800</td>\n",
              "      <td>60</td>\n",
              "      <td>0</td>\n",
              "      <td>NaN</td>\n",
              "      <td>NaN</td>\n",
              "      <td>1</td>\n",
              "      <td>365</td>\n",
              "    </tr>\n",
              "  </tbody>\n",
              "</table>\n",
              "</div>"
            ],
            "text/plain": [
              "      id  ... availability_365\n",
              "0  27934  ...              362\n",
              "1  27942  ...                0\n",
              "2  27979  ...              358\n",
              "3  28354  ...              364\n",
              "4  28745  ...              365\n",
              "\n",
              "[5 rows x 16 columns]"
            ]
          },
          "metadata": {
            "tags": []
          },
          "execution_count": 3
        }
      ]
    },
    {
      "cell_type": "markdown",
      "metadata": {
        "id": "6-B_qtEaYEd-"
      },
      "source": [
        "### **Q1. Quantos atributos (variáveis) e quantas entradas o nosso conjunto de dados possui? Quais os tipos das variáveis?**\n",
        "Essa etapa é importante para verificarmos a quantidade de entradas (linhas) e variáveis (colunas) de nosso *dataset*, e também se os dados encontram-se dentro dos formatos esperados (int64, float, object, etc).\n",
        "\n",
        "No caso específico deste *dataset* não foi necessário fazer alterações no formatos dos dados, logo seguimos com a nossa análise."
      ]
    },
    {
      "cell_type": "code",
      "metadata": {
        "id": "TFRK0tniLV-G",
        "colab": {
          "base_uri": "https://localhost:8080/"
        },
        "outputId": "b26adc5f-2cf8-4179-ebd1-05164da38014"
      },
      "source": [
        "# identificar o volume de dados do dataset\n",
        "print('Dimensões do Dataset',\n",
        "    '\\nVariáveis: ',df.shape[1], \"\\n\"\n",
        "      'Entradas: ', df.shape[0])"
      ],
      "execution_count": 4,
      "outputs": [
        {
          "output_type": "stream",
          "text": [
            "Dimensões do Dataset \n",
            "Variáveis:  16 \n",
            "Entradas:  19709\n"
          ],
          "name": "stdout"
        }
      ]
    },
    {
      "cell_type": "code",
      "metadata": {
        "colab": {
          "base_uri": "https://localhost:8080/",
          "height": 293
        },
        "id": "r0DVNLZ8FttG",
        "outputId": "50a84bdc-a800-41b0-ad8e-2c6b94212396"
      },
      "source": [
        "# verificar os tipos das variáveis do dataset\n",
        "display(df.dtypes)"
      ],
      "execution_count": 5,
      "outputs": [
        {
          "output_type": "display_data",
          "data": {
            "text/plain": [
              "id                                  int64\n",
              "name                               object\n",
              "host_id                             int64\n",
              "host_name                          object\n",
              "neighbourhood_group               float64\n",
              "neighbourhood                      object\n",
              "latitude                          float64\n",
              "longitude                         float64\n",
              "room_type                          object\n",
              "price                               int64\n",
              "minimum_nights                      int64\n",
              "number_of_reviews                   int64\n",
              "last_review                        object\n",
              "reviews_per_month                 float64\n",
              "calculated_host_listings_count      int64\n",
              "availability_365                    int64\n",
              "dtype: object"
            ]
          },
          "metadata": {
            "tags": []
          }
        }
      ]
    },
    {
      "cell_type": "markdown",
      "metadata": {
        "id": "yz1urSUGW9iE"
      },
      "source": [
        "### **Q2. Qual a porcentagem de valores ausentes no *dataset*?**\n",
        "\n",
        "Uma das primeiras etapas para verificarmos a qualidade dos dados em análise é checar a quantidade de valores nulos/ausentes em nosso *dataset*.\n",
        "\n",
        "Com apenas uma linha de código, foi possível verificar que:\n",
        "\n",
        "* A coluna `neighbourhood_group` possui 100% dos seus valores faltantes; \n",
        "* As variáveis `reviews_per_month` e `last_review` possuem valores nulos em aproximadamente 41% das linhas;\n",
        "* As variáveis `name` e `host_name` têm menos que 1% dos valores nulos."
      ]
    },
    {
      "cell_type": "code",
      "metadata": {
        "id": "plk2FjbCXOqP",
        "colab": {
          "base_uri": "https://localhost:8080/"
        },
        "outputId": "76d81a39-2a2e-4714-ef62-48f3adc5f3e3"
      },
      "source": [
        "# ordenar em ordem decrescente as variáveis por seus valores ausentes\n",
        "(df.isnull().sum() / df.shape[0]).sort_values(ascending=False)*100"
      ],
      "execution_count": 6,
      "outputs": [
        {
          "output_type": "execute_result",
          "data": {
            "text/plain": [
              "neighbourhood_group               100.000000\n",
              "reviews_per_month                  41.174083\n",
              "last_review                        41.174083\n",
              "name                                0.050738\n",
              "host_name                           0.010148\n",
              "availability_365                    0.000000\n",
              "calculated_host_listings_count      0.000000\n",
              "number_of_reviews                   0.000000\n",
              "minimum_nights                      0.000000\n",
              "price                               0.000000\n",
              "room_type                           0.000000\n",
              "longitude                           0.000000\n",
              "latitude                            0.000000\n",
              "neighbourhood                       0.000000\n",
              "host_id                             0.000000\n",
              "id                                  0.000000\n",
              "dtype: float64"
            ]
          },
          "metadata": {
            "tags": []
          },
          "execution_count": 6
        }
      ]
    },
    {
      "cell_type": "markdown",
      "metadata": {
        "id": "yL0umEMOCJA4"
      },
      "source": [
        "Tendo em vista que a **coluna** `neighbourhood_group` possuí 100% dos dados faltantes, e que as **colunas** `reviews_per_month` e `last_review` não fazem parte do escopo desta análise, optamos por excluí-las.\n",
        "\n",
        "Com relação às **entradas** faltantes nas colunas `name` e `host_name`, tendo em vista que representam um número inferior a 1% dos dados, também optamos por excluí-las."
      ]
    },
    {
      "cell_type": "code",
      "metadata": {
        "id": "pUTcuhT0D6mD"
      },
      "source": [
        "# excluir colunas com dados faltantes\n",
        "df.drop(columns=['neighbourhood_group', 'reviews_per_month', 'last_review'], inplace=True)\n",
        "\n",
        "# excluir entradas com dados faltantes\n",
        "df.dropna(axis=0, inplace=True)"
      ],
      "execution_count": 7,
      "outputs": []
    },
    {
      "cell_type": "markdown",
      "metadata": {
        "id": "giY9JIBNESC8"
      },
      "source": [
        "Após a limpeza, vamos conferir os resultados."
      ]
    },
    {
      "cell_type": "code",
      "metadata": {
        "colab": {
          "base_uri": "https://localhost:8080/"
        },
        "id": "DPu6HQ8yEXRZ",
        "outputId": "2ae52a22-ba5e-4741-b0c6-8a80c3508649"
      },
      "source": [
        "#verificar a quantidade de dados faltantes\n",
        "print('Coluna\\t\\t\\t Dados Faltantes')\n",
        "(df.isnull().sum()).sort_values(ascending=False)"
      ],
      "execution_count": 8,
      "outputs": [
        {
          "output_type": "stream",
          "text": [
            "Coluna\t\t\t Dados Faltantes\n"
          ],
          "name": "stdout"
        },
        {
          "output_type": "execute_result",
          "data": {
            "text/plain": [
              "availability_365                  0\n",
              "calculated_host_listings_count    0\n",
              "number_of_reviews                 0\n",
              "minimum_nights                    0\n",
              "price                             0\n",
              "room_type                         0\n",
              "longitude                         0\n",
              "latitude                          0\n",
              "neighbourhood                     0\n",
              "host_name                         0\n",
              "host_id                           0\n",
              "name                              0\n",
              "id                                0\n",
              "dtype: int64"
            ]
          },
          "metadata": {
            "tags": []
          },
          "execution_count": 8
        }
      ]
    },
    {
      "cell_type": "code",
      "metadata": {
        "colab": {
          "base_uri": "https://localhost:8080/"
        },
        "id": "x-j8JmeBFRkl",
        "outputId": "fe00fd6c-5192-44a1-d307-ccac2cb6f1b3"
      },
      "source": [
        "# verificar as novas dimensões do dataset\n",
        "print('Dimensões do Dataset',\n",
        "    '\\nVariáveis: ',df.shape[1], \"\\n\"\n",
        "      'Entradas: ', df.shape[0])"
      ],
      "execution_count": 9,
      "outputs": [
        {
          "output_type": "stream",
          "text": [
            "Dimensões do Dataset \n",
            "Variáveis:  13 \n",
            "Entradas:  19697\n"
          ],
          "name": "stdout"
        }
      ]
    },
    {
      "cell_type": "markdown",
      "metadata": {
        "id": "iHXvvHIxaoNc"
      },
      "source": [
        "### **Q3. Qual o tipo de distribuição das variáveis?** \n",
        "\n",
        "Para visualizar a distribuição das variáveis, vamos plotar seus respectivos histogramas."
      ]
    },
    {
      "cell_type": "code",
      "metadata": {
        "id": "q2wWSfeRbmBo",
        "colab": {
          "base_uri": "https://localhost:8080/",
          "height": 607
        },
        "outputId": "d5ef809a-684e-4e3f-cb85-9673d628fee6"
      },
      "source": [
        "# plotar o histograma das variáveis numéricas\n",
        "df.hist(bins=15, figsize=(15,10));"
      ],
      "execution_count": 10,
      "outputs": [
        {
          "output_type": "display_data",
          "data": {
            "image/png": "[encoded data removed]",
            "text/plain": [
              "<Figure size 1080x720 with 9 Axes>"
            ]
          },
          "metadata": {
            "tags": [],
            "needs_background": "light"
          }
        }
      ]
    },
    {
      "cell_type": "markdown",
      "metadata": {
        "id": "Y1-txaJ49ylA"
      },
      "source": [
        "### **Q4. Há *outliers* presentes?**\n",
        "Após a visualização dos histogramas, foi possível verificar indícios da presença de *outliers*. \n",
        "\n",
        "Vamos focar na variável `price`; logo de cara verifica-se que os valores não seguem uma distribuição, o que acaba distorcendo a representação gráfica.\n",
        "\n",
        "Para confirmar nossa hipótese vamos verificar o resumo estatístico através do método `describe()` e em seguida vamos plotar um `boxplot` para a variável `price`."
      ]
    },
    {
      "cell_type": "code",
      "metadata": {
        "colab": {
          "base_uri": "https://localhost:8080/"
        },
        "id": "N-ks_2a9990b",
        "outputId": "ed5ffa65-8735-4993-fc46-f4819f3f9fad"
      },
      "source": [
        "# ver o resumo estatístico da variável price\n",
        "df.price.describe().round(1)"
      ],
      "execution_count": 11,
      "outputs": [
        {
          "output_type": "execute_result",
          "data": {
            "text/plain": [
              "count     19697.0\n",
              "mean       2078.3\n",
              "std        6260.1\n",
              "min           0.0\n",
              "25%         705.0\n",
              "50%        1100.0\n",
              "75%        1900.0\n",
              "max      302105.0\n",
              "Name: price, dtype: float64"
            ]
          },
          "metadata": {
            "tags": []
          },
          "execution_count": 11
        }
      ]
    },
    {
      "cell_type": "markdown",
      "metadata": {
        "id": "atf69MI0A_R3"
      },
      "source": [
        "Com o auxílio do resumo estatístico foi possível verificar o seguinte:\n",
        "- A variável `price` possui 75% de seus valores abaixo de 1900, no entanto seu valor máximo é 302105 (valor extremamente alto);\n",
        "- O valor mínimo da variável `price` é 0 (zero). Será que existem acomodações gratuitas em Bangkok? Ou temos algum problema em nosso *DataFrame*?\n"
      ]
    },
    {
      "cell_type": "markdown",
      "metadata": {
        "id": "aUyZgHNCG6VL"
      },
      "source": [
        "#### Tratando Outliers\n",
        "\n",
        "<p align=\"center\"><img src=\"https://miro.medium.com/max/18000/1*2c21SkzJMf3frPXPAR_gZA.png\n",
        "\", width=\"50%\"></p>\n",
        "\n",
        "\n",
        "*Outliers* são pontos discrepantes, que estão destoando do padrão do conjunto de dados.\n",
        "\n",
        "É muito importante conseguir identificar e tratar esses *outliers*, pois eles podem nos mostrar uma imagem incorreta dos nossos dados.\n",
        "\n",
        "Podemos identificar um *outlier* de diversas formas, entre elas podemos citar:\n",
        "\n",
        "* IQR Score\n",
        "* Boxplots\n",
        "* Scatter plots\n",
        "* Z-Score\n",
        "\n",
        "Em nossa análise utilizaremos o **IQR Score**.\n",
        "\n",
        "O IQR é calculado subtraindo o Terceiro Quartil (75%) pelo Primeiro Quartil (25%).\n",
        "\n",
        "<p align=center><b>IQR = Q3 - Q1\n"
      ]
    },
    {
      "cell_type": "markdown",
      "metadata": {
        "id": "T-wDMbpjKu7y"
      },
      "source": [
        "Para tratar os *outliers* da variável `price` seguiremos os seguintes passos:\n",
        "\n",
        "* Definir o Q1 e Q3;\n",
        "* Calcular seu IQR;\n",
        "* Definir o limite superior e inferior para cortar os outliers;\n",
        "* Remover os outliers."
      ]
    },
    {
      "cell_type": "code",
      "metadata": {
        "colab": {
          "base_uri": "https://localhost:8080/"
        },
        "id": "8oI0N9jrMPPr",
        "outputId": "c26cf215-8ce7-4160-a8cf-833c909fb410"
      },
      "source": [
        "# definir Q1 e Q3\n",
        "q1_price = df.price.quantile(.25)\n",
        "q3_price = df.price.quantile(.75)\n",
        "\n",
        "# calcular o IQR\n",
        "IQR_price = q3_price - q1_price\n",
        "print('IQR da variável price: ', IQR_price)\n",
        "\n",
        "# definir os limites                                       \n",
        "sup_price = q3_price + 1.5 * IQR_price\n",
        "inf_price = q1_price - 1.5 * IQR_price\n",
        "\n",
        "print('Limite superior de price: ', sup_price)\n",
        "print('Limite inferior de price: ', inf_price)"
      ],
      "execution_count": 12,
      "outputs": [
        {
          "output_type": "stream",
          "text": [
            "IQR da variável price:  1195.0\n",
            "Limite superior de price:  3692.5\n",
            "Limite inferior de price:  -1087.5\n"
          ],
          "name": "stdout"
        }
      ]
    },
    {
      "cell_type": "markdown",
      "metadata": {
        "id": "kJVnQNAbSaiF"
      },
      "source": [
        "Apesar de não termos outliers na parte inferior, continuamos tendo valores iguais a zero, que precisam ser tratados.\n"
      ]
    },
    {
      "cell_type": "markdown",
      "metadata": {
        "id": "Z-yi9THqG1RP"
      },
      "source": [
        "#### Boxplot para a variável `price` (antes da remoção de *outliers*)"
      ]
    },
    {
      "cell_type": "code",
      "metadata": {
        "colab": {
          "base_uri": "https://localhost:8080/",
          "height": 373
        },
        "id": "pOLDXHdIEu_4",
        "outputId": "1a74518e-08f0-4270-ecf1-f0eb2e8ee44c"
      },
      "source": [
        "# boxplot para price\n",
        "fig, ax = plt.subplots(figsize=(15,3))\n",
        "df.price.plot(kind='box', vert=False);\n",
        "ax.set_title('Dataset Original - price')\n",
        "plt.show()\n",
        "\n",
        "# verificar o número de entradas do dataset\n",
        "print(\"O dataset possui {} linhas\".format(df.shape[0]))\n",
        "\n",
        "# verificar a quantidade de valores acima do limite superior para price\n",
        "print(\"\\nprice: valores acima de 3692.5\")\n",
        "print(\"{} entradas\".format(len(df[df.price > 3692.5])))\n",
        "print(\"{:.4f}%\".format((len(df[df.price > 3692.5]) / df.shape[0])*100))\n",
        "\n",
        "# verificar a quantidade de valores iguais a 0 (zero) para price\n",
        "print(\"\\nprice: valores iguais a 0 (zero)\")\n",
        "print(\"{} entradas\".format(len(df[df.price == 0])))\n",
        "print(\"{:.4f}%\".format((len(df[df.price == 0]) / df.shape[0])*100))"
      ],
      "execution_count": 13,
      "outputs": [
        {
          "output_type": "display_data",
          "data": {
            "image/png": "[encoded data removed]",
            "text/plain": [
              "<Figure size 1080x216 with 1 Axes>"
            ]
          },
          "metadata": {
            "tags": [],
            "needs_background": "light"
          }
        },
        {
          "output_type": "stream",
          "text": [
            "O dataset possui 19697 linhas\n",
            "\n",
            "price: valores acima de 3692.5\n",
            "1710 entradas\n",
            "8.6815%\n",
            "\n",
            "price: valores iguais a 0 (zero)\n",
            "1 entradas\n",
            "0.0051%\n"
          ],
          "name": "stdout"
        }
      ]
    },
    {
      "cell_type": "markdown",
      "metadata": {
        "id": "Smv2P2WsJxxD"
      },
      "source": [
        "#### Boxplot para a variável `price` (após a remoção de *outliers*)\n",
        "Agora vamos \"limpar\" nosso *DataFrame*, removendo os outliers anteriormente identificados, bem como a entrada com o valor de diária igual a 0 (zero); e na sequência vamos plotar um novo *boxplot* para a variável `price`."
      ]
    },
    {
      "cell_type": "code",
      "metadata": {
        "colab": {
          "base_uri": "https://localhost:8080/",
          "height": 260
        },
        "id": "ebc4J52GKj_j",
        "outputId": "89ec9d23-76ca-47d4-a376-2208ff5231bc"
      },
      "source": [
        "# remover os outliers e a entrada com valor igual a zero em um novo DataFrame\n",
        "df_clean = df.copy()\n",
        "df_clean.drop(df_clean[df_clean.price > 3692.5].index, axis=0, inplace=True)\n",
        "df_clean.drop(df_clean[df_clean.price == 0].index, axis=0, inplace=True)\n",
        "\n",
        "# plotar o histograma para a variável price\n",
        "fig, ax = plt.subplots(figsize=(15,3))\n",
        "df_clean.price.plot(kind='box', vert=False);\n",
        "ax.set_title('Dataset Limpo - price')\n",
        "plt.show()\n",
        "print(\"Tamanho original: {} linhas\".format(df.shape[0]))\n",
        "print(\"Tamanho atual: {} linhas\".format(df_clean.shape[0]))"
      ],
      "execution_count": 14,
      "outputs": [
        {
          "output_type": "display_data",
          "data": {
            "image/png": "[encoded data removed]",
            "text/plain": [
              "<Figure size 1080x216 with 1 Axes>"
            ]
          },
          "metadata": {
            "tags": [],
            "needs_background": "light"
          }
        },
        {
          "output_type": "stream",
          "text": [
            "Tamanho original: 19697 linhas\n",
            "Tamanho atual: 17986 linhas\n"
          ],
          "name": "stdout"
        }
      ]
    },
    {
      "cell_type": "markdown",
      "metadata": {
        "id": "C0tJYVDFS3Zs"
      },
      "source": [
        "Aqui podemos visualizar o resultado de nossa limpeza nos dados.\n",
        "\n",
        "Apesar de ainda constarem dados apontados como *outliers* no *boxplot*, devemos lembrar que estes dados se referem à nova configuração do *dataset*; e nossa limpeza levou em consideração os quartis dos dados originais.\n",
        "\n",
        "Agora vamos plotar um novo histograma da variável `price` para visualizar sua nova distribuição."
      ]
    },
    {
      "cell_type": "code",
      "metadata": {
        "colab": {
          "base_uri": "https://localhost:8080/",
          "height": 862
        },
        "id": "cGE8trHtTwVx",
        "outputId": "db903eef-089e-4949-ebed-044f91559e01"
      },
      "source": [
        "# verificar o histograma da variável price (sem outliers)\n",
        "df_clean.price.hist(figsize=(20,15), grid=False);"
      ],
      "execution_count": 15,
      "outputs": [
        {
          "output_type": "display_data",
          "data": {
            "image/png": "[encoded data removed]",
            "text/plain": [
              "<Figure size 1440x1080 with 1 Axes>"
            ]
          },
          "metadata": {
            "tags": [],
            "needs_background": "light"
          }
        }
      ]
    },
    {
      "cell_type": "code",
      "metadata": {
        "colab": {
          "base_uri": "https://localhost:8080/"
        },
        "id": "BbzusxTIUEuf",
        "outputId": "ed15ba3d-77c4-4faa-8728-3643df782c8a"
      },
      "source": [
        "# verificar a distribuição estatística dos dados limpos\n",
        "df_clean.price.describe().round(1)"
      ],
      "execution_count": 16,
      "outputs": [
        {
          "output_type": "execute_result",
          "data": {
            "text/plain": [
              "count    17986.0\n",
              "mean      1249.9\n",
              "std        750.4\n",
              "min        220.0\n",
              "25%        699.0\n",
              "50%       1000.0\n",
              "75%       1600.0\n",
              "max       3690.0\n",
              "Name: price, dtype: float64"
            ]
          },
          "metadata": {
            "tags": []
          },
          "execution_count": 16
        }
      ]
    },
    {
      "cell_type": "markdown",
      "metadata": {
        "id": "7x4aw1j5wNmn"
      },
      "source": [
        "### **Q5. Qual a média dos preços de aluguel?**\n",
        "Agora vamos comparar a diferença entre a média dos preços de aluguel antes e após a remoção dos *outliers*."
      ]
    },
    {
      "cell_type": "code",
      "metadata": {
        "id": "ff-8gUahLk-C",
        "colab": {
          "base_uri": "https://localhost:8080/"
        },
        "outputId": "006cd02c-c21d-42eb-ab73-8cf01ac20094"
      },
      "source": [
        "# ver a média da coluna price com outliers\n",
        "print(\"Preço médio do aluguel (com outliers):\\t {}\".format(round(df.price.mean(),2)))\n",
        "\n",
        "# ver a média da coluna price sem outliers\n",
        "print(\"Preço médio do aluguel (sem outliers):\\t {}\".format(round(df_clean.price.mean(),2)))"
      ],
      "execution_count": 17,
      "outputs": [
        {
          "output_type": "stream",
          "text": [
            "Preço médio do aluguel (com outliers):\t 2078.32\n",
            "Preço médio do aluguel (sem outliers):\t 1249.9\n"
          ],
          "name": "stdout"
        }
      ]
    },
    {
      "cell_type": "markdown",
      "metadata": {
        "id": "o04YN0_uQxrP"
      },
      "source": [
        "Agora temos uma distribuição mais \"realista\" dos preços, cabendo destaque ao seguinte ponto:\n",
        "- A média do valor da diária foi reduzida drasticamente, caindo de 2078.3 Baht (374 reais) para 1249.9 Baht (69 reais), o que demonstra quão sensível este atributo é em relação a presença de *outliers*."
      ]
    },
    {
      "cell_type": "markdown",
      "metadata": {
        "id": "IXn2oIo5qx-w"
      },
      "source": [
        "### **Q6. Qual a correlação existente entre as variáveis**\n",
        "Para identificar as correlações (relação ou semelhança entre duas coias) existentes entre as variáveis de interesse, vamos fazer o seguinte:\n",
        "\n",
        "* Criar uma matriz de correlação\n",
        "* Gerar um *heatmap* a partir dessa matriz, usando a biblioteca `seaborn`"
      ]
    },
    {
      "cell_type": "code",
      "metadata": {
        "id": "x2ayzBajqxyd",
        "colab": {
          "base_uri": "https://localhost:8080/",
          "height": 191
        },
        "outputId": "8255addc-a9c5-4f44-c088-c06ab886b673"
      },
      "source": [
        "# criar uma matriz de correlação\n",
        "corr = df_clean[['price', 'minimum_nights', 'number_of_reviews',\n",
        "    'calculated_host_listings_count', 'availability_365']].corr()\n",
        "# mostrar a matriz de correlação\n",
        "display(corr)"
      ],
      "execution_count": 18,
      "outputs": [
        {
          "output_type": "display_data",
          "data": {
            "text/html": [
              "<div>\n",
              "<style scoped>\n",
              "    .dataframe tbody tr th:only-of-type {\n",
              "        vertical-align: middle;\n",
              "    }\n",
              "\n",
              "    .dataframe tbody tr th {\n",
              "        vertical-align: top;\n",
              "    }\n",
              "\n",
              "    .dataframe thead th {\n",
              "        text-align: right;\n",
              "    }\n",
              "</style>\n",
              "<table border=\"1\" class=\"dataframe\">\n",
              "  <thead>\n",
              "    <tr style=\"text-align: right;\">\n",
              "      <th></th>\n",
              "      <th>price</th>\n",
              "      <th>minimum_nights</th>\n",
              "      <th>number_of_reviews</th>\n",
              "      <th>calculated_host_listings_count</th>\n",
              "      <th>availability_365</th>\n",
              "    </tr>\n",
              "  </thead>\n",
              "  <tbody>\n",
              "    <tr>\n",
              "      <th>price</th>\n",
              "      <td>1.000000</td>\n",
              "      <td>-0.034118</td>\n",
              "      <td>-0.021646</td>\n",
              "      <td>-0.086361</td>\n",
              "      <td>-0.006402</td>\n",
              "    </tr>\n",
              "    <tr>\n",
              "      <th>minimum_nights</th>\n",
              "      <td>-0.034118</td>\n",
              "      <td>1.000000</td>\n",
              "      <td>-0.039943</td>\n",
              "      <td>0.092691</td>\n",
              "      <td>0.046806</td>\n",
              "    </tr>\n",
              "    <tr>\n",
              "      <th>number_of_reviews</th>\n",
              "      <td>-0.021646</td>\n",
              "      <td>-0.039943</td>\n",
              "      <td>1.000000</td>\n",
              "      <td>-0.031265</td>\n",
              "      <td>0.010741</td>\n",
              "    </tr>\n",
              "    <tr>\n",
              "      <th>calculated_host_listings_count</th>\n",
              "      <td>-0.086361</td>\n",
              "      <td>0.092691</td>\n",
              "      <td>-0.031265</td>\n",
              "      <td>1.000000</td>\n",
              "      <td>0.022390</td>\n",
              "    </tr>\n",
              "    <tr>\n",
              "      <th>availability_365</th>\n",
              "      <td>-0.006402</td>\n",
              "      <td>0.046806</td>\n",
              "      <td>0.010741</td>\n",
              "      <td>0.022390</td>\n",
              "      <td>1.000000</td>\n",
              "    </tr>\n",
              "  </tbody>\n",
              "</table>\n",
              "</div>"
            ],
            "text/plain": [
              "                                   price  ...  availability_365\n",
              "price                           1.000000  ...         -0.006402\n",
              "minimum_nights                 -0.034118  ...          0.046806\n",
              "number_of_reviews              -0.021646  ...          0.010741\n",
              "calculated_host_listings_count -0.086361  ...          0.022390\n",
              "availability_365               -0.006402  ...          1.000000\n",
              "\n",
              "[5 rows x 5 columns]"
            ]
          },
          "metadata": {
            "tags": []
          }
        }
      ]
    },
    {
      "cell_type": "code",
      "metadata": {
        "id": "91UujDr6ueqE",
        "colab": {
          "base_uri": "https://localhost:8080/",
          "height": 427
        },
        "outputId": "1ccd4823-9822-4ad0-c91c-8c34756ac748"
      },
      "source": [
        "# plotar um heatmap a partir das correlações\n",
        "sns.heatmap(corr, cmap='RdBu', fmt='.2f', square=True, linecolor='white', annot=True)"
      ],
      "execution_count": 19,
      "outputs": [
        {
          "output_type": "execute_result",
          "data": {
            "text/plain": [
              "<matplotlib.axes._subplots.AxesSubplot at 0x7fb66feb80b8>"
            ]
          },
          "metadata": {
            "tags": []
          },
          "execution_count": 19
        },
        {
          "output_type": "display_data",
          "data": {
            "image/png": "[encoded data removed]",
            "text/plain": [
              "<Figure size 432x288 with 2 Axes>"
            ]
          },
          "metadata": {
            "tags": [],
            "needs_background": "light"
          }
        }
      ]
    },
    {
      "cell_type": "markdown",
      "metadata": {
        "id": "POcG-gxNQz6S"
      },
      "source": [
        "Após a análise do *heatmap* verificamos que nenhuma das variáveis possuí uma correlação que possa ser considerada forte."
      ]
    },
    {
      "cell_type": "markdown",
      "metadata": {
        "id": "7b6RMWpuHKN-"
      },
      "source": [
        "### **Q7. Qual o tipo de imóvel mais alugado no Airbnb?**\n",
        "Dentro do Airbnb é possível alugar diversos tipos de imóveis, como por exemplo: casas inteiras, apartamentos, quartos individuais ou compartilhados, entre outros.\n",
        "\n",
        "Para verificar o número de ocorrências de cada tipo de imóvel vamos utilizar o método `value_counts()`."
      ]
    },
    {
      "cell_type": "code",
      "metadata": {
        "id": "ueLPNWvPHgfB",
        "colab": {
          "base_uri": "https://localhost:8080/"
        },
        "outputId": "0b81fee8-5e4c-4217-a7f3-e070e26b2aa7"
      },
      "source": [
        "# mostrar a quantidade de cada tipo de imóvel disponível\n",
        "df_clean.room_type.value_counts()"
      ],
      "execution_count": 20,
      "outputs": [
        {
          "output_type": "execute_result",
          "data": {
            "text/plain": [
              "Entire home/apt    9906\n",
              "Private room       6478\n",
              "Hotel room          907\n",
              "Shared room         695\n",
              "Name: room_type, dtype: int64"
            ]
          },
          "metadata": {
            "tags": []
          },
          "execution_count": 20
        }
      ]
    },
    {
      "cell_type": "code",
      "metadata": {
        "id": "EvwoO-XAHhIm",
        "colab": {
          "base_uri": "https://localhost:8080/"
        },
        "outputId": "21620cd2-c28d-40b3-dfa5-d691caf76372"
      },
      "source": [
        "# mostrar a porcentagem de cada tipo de imóvel disponível\n",
        "round(((df_clean.room_type.value_counts() / df_clean.shape[0])*100), 2)"
      ],
      "execution_count": 21,
      "outputs": [
        {
          "output_type": "execute_result",
          "data": {
            "text/plain": [
              "Entire home/apt    55.08\n",
              "Private room       36.02\n",
              "Hotel room          5.04\n",
              "Shared room         3.86\n",
              "Name: room_type, dtype: float64"
            ]
          },
          "metadata": {
            "tags": []
          },
          "execution_count": 21
        }
      ]
    },
    {
      "cell_type": "markdown",
      "metadata": {
        "id": "PgmdGxIGRsAU"
      },
      "source": [
        "No caso de Bangkok vemos que a maioria dos imóveis disponíveis são casas/apartamentos inteiros (55%), seguidos por quartos individuais (36%)."
      ]
    },
    {
      "cell_type": "markdown",
      "metadata": {
        "id": "MFa5NbnLJMcd"
      },
      "source": [
        "### **Q8. Qual a localidade mais cara em Bangkok?**\n",
        "Para verificarmos o preço médio (`price`) em função dos bairros (`neighbourhood`) vamos utilizar a função `groupby()`.\n",
        "\n",
        "Mas, primeiramente, vamos verificar quantos imóveis estão disponíveis em cada bairro utilizando o método `value_counts()`.\n",
        "\n",
        "<center><img alt=\"Pathum Wan District\" width=\"100%\" src=\"https://raw.githubusercontent.com/monteiro-fernando/Data_Science/main/img/Pathum%20Wan%20District.jpg\"></center>\n",
        "\n",
        "<center>Distrito de Pathum Wan - Bangkok"
      ]
    },
    {
      "cell_type": "code",
      "metadata": {
        "colab": {
          "base_uri": "https://localhost:8080/"
        },
        "id": "ZS_z8SUhYAEn",
        "outputId": "f24855c7-8eba-4e47-f0e7-b3cb21d476d3"
      },
      "source": [
        "# ver a quantidade de imóveis disponíveis por bairro\n",
        "print(\"Bairros:\\t N° de imóveis disponíveis:\\n\")\n",
        "df_clean.neighbourhood.value_counts()"
      ],
      "execution_count": 22,
      "outputs": [
        {
          "output_type": "stream",
          "text": [
            "Bairros:\t N° de imóveis disponíveis:\n",
            "\n"
          ],
          "name": "stdout"
        },
        {
          "output_type": "execute_result",
          "data": {
            "text/plain": [
              "Vadhana                 2224\n",
              "Khlong Toei             2182\n",
              "Huai Khwang             1439\n",
              "Ratchathewi             1314\n",
              "Bang Rak                 955\n",
              "Sathon                   829\n",
              "Phra Nakhon              762\n",
              "Phra Khanong             660\n",
              "Chatu Chak               594\n",
              "Din Daeng                553\n",
              "Bang Na                  548\n",
              "Phaya Thai               504\n",
              "Parthum Wan              500\n",
              "Khlong San               470\n",
              "Suanluang                442\n",
              "Bang Kapi                310\n",
              "Bang Sue                 270\n",
              "Thon buri                256\n",
              "Lat Krabang              244\n",
              "Bang Phlat               232\n",
              "Don Mueang               206\n",
              "Yan na wa                205\n",
              "Phasi Charoen            173\n",
              "Pra Wet                  169\n",
              "Wang Thong Lang          151\n",
              "Bangkok Noi              150\n",
              "Lak Si                   150\n",
              "Pom Prap Sattru Phai     147\n",
              "Bang Khen                145\n",
              "Bang Kho laen            140\n",
              "Samphanthawong           122\n",
              "Dusit                    107\n",
              "Bang Khae                 96\n",
              "Bangkok Yai               91\n",
              "Chom Thong                84\n",
              "Bueng Kum                 63\n",
              "Min Buri                  63\n",
              "Khan Na Yao               60\n",
              "Lat Phrao                 56\n",
              "Rat Burana                53\n",
              "Sai Mai                   48\n",
              "Khlong Sam Wa             40\n",
              "Saphan Sung               39\n",
              "Taling Chan               36\n",
              "Thung khru                28\n",
              "Bang Khun thain           23\n",
              "Nong Khaem                16\n",
              "Nong Chok                 15\n",
              "Thawi Watthana            14\n",
              "Bang Bon                   8\n",
              "Name: neighbourhood, dtype: int64"
            ]
          },
          "metadata": {
            "tags": []
          },
          "execution_count": 22
        }
      ]
    },
    {
      "cell_type": "markdown",
      "metadata": {
        "id": "oVKnyseyZGpW"
      },
      "source": [
        "Como podemos verificar, existem bairros com mais de 2 mil imóveis disponíveis, e bairros com números inferiores a 50 imóveis disponíveis, o que pode gerar comparações injustas entre as médias de preço. Em nossa análise vamos considerar apenas os bairros que possuam um número maior que 200 imóveis disponíveis para locação."
      ]
    },
    {
      "cell_type": "code",
      "metadata": {
        "colab": {
          "base_uri": "https://localhost:8080/"
        },
        "id": "BKPjF9FFaZm5",
        "outputId": "19da1123-573a-43af-a8fd-a35e5983e8d3"
      },
      "source": [
        "# ver o top 10 bairros mais caros, na média\n",
        "df_clean2 = df_clean.groupby(['neighbourhood']).filter(lambda x: len(x) > 200)\n",
        "print(\"Top 10: aluguéis mais caros em Bangkok\\n\")\n",
        "round(df_clean2.groupby(['neighbourhood']).price.mean().sort_values(ascending=False)[:10], 2)"
      ],
      "execution_count": 29,
      "outputs": [
        {
          "output_type": "stream",
          "text": [
            "Top 10: aluguéis mais caros em Bangkok\n",
            "\n"
          ],
          "name": "stdout"
        },
        {
          "output_type": "execute_result",
          "data": {
            "text/plain": [
              "neighbourhood\n",
              "Parthum Wan    1732.05\n",
              "Yan na wa      1466.96\n",
              "Bang Rak       1462.12\n",
              "Vadhana        1446.32\n",
              "Ratchathewi    1373.91\n",
              "Khlong San     1352.45\n",
              "Phaya Thai     1294.96\n",
              "Khlong Toei    1244.53\n",
              "Chatu Chak     1220.21\n",
              "Sathon         1176.09\n",
              "Name: price, dtype: float64"
            ]
          },
          "metadata": {
            "tags": []
          },
          "execution_count": 29
        }
      ]
    },
    {
      "cell_type": "code",
      "metadata": {
        "colab": {
          "base_uri": "https://localhost:8080/"
        },
        "id": "FV9X9oHyaU9x",
        "outputId": "7b6e4e57-5d0c-4831-9421-c7a7d2a44e0b"
      },
      "source": [
        "# ver o top 10 bairros mais baratos, na média\n",
        "df_clean2 = df_clean.groupby(['neighbourhood']).filter(lambda x: len(x) > 200)\n",
        "print(\"Top 10: aluguéis mais baratos em Bangkok\\n\")\n",
        "round(df_clean2.groupby(['neighbourhood']).price.mean().sort_values(ascending=True)[:10], 2)"
      ],
      "execution_count": 31,
      "outputs": [
        {
          "output_type": "stream",
          "text": [
            "Top 10: aluguéis mais baratos em Bangkok\n",
            "\n"
          ],
          "name": "stdout"
        },
        {
          "output_type": "execute_result",
          "data": {
            "text/plain": [
              "neighbourhood\n",
              "Bang Sue         934.43\n",
              "Bang Na          983.04\n",
              "Don Mueang       991.35\n",
              "Bang Phlat       997.63\n",
              "Bang Kapi       1004.38\n",
              "Phra Khanong    1096.26\n",
              "Din Daeng       1096.34\n",
              "Thon buri       1115.60\n",
              "Lat Krabang     1116.07\n",
              "Suanluang       1130.46\n",
              "Name: price, dtype: float64"
            ]
          },
          "metadata": {
            "tags": []
          },
          "execution_count": 31
        }
      ]
    },
    {
      "cell_type": "markdown",
      "metadata": {
        "id": "Q2BMBmifaDvt"
      },
      "source": [
        "Como são fornecidas as Latitudes e Longitudes para os imóveis, também é possível plotar um \"mapa\", onde cada ponto representa um imóvel, e cada cor representa seu respectivo preço. Para isso, considera-se `x=longitude` e `y=latitude`."
      ]
    },
    {
      "cell_type": "code",
      "metadata": {
        "id": "UxVJqJ_3W59I",
        "colab": {
          "base_uri": "https://localhost:8080/",
          "height": 468
        },
        "outputId": "f5dc89a1-c414-4a2b-9e9d-29327cfe4a8c"
      },
      "source": [
        "# plotar os imóveis pela latitude-longitude\n",
        "df_clean2.plot(kind='scatter', x='longitude', y='latitude', alpha=0.4,\n",
        "        c=df_clean2['price'], s=8, cmap=plt.get_cmap('jet'), figsize=(12,8));"
      ],
      "execution_count": 24,
      "outputs": [
        {
          "output_type": "display_data",
          "data": {
            "image/png": "[encoded data removed]",
            "text/plain": [
              "<Figure size 864x576 with 2 Axes>"
            ]
          },
          "metadata": {
            "tags": [],
            "needs_background": "light"
          }
        }
      ]
    },
    {
      "cell_type": "markdown",
      "metadata": {
        "id": "GkvAg623RjoR"
      },
      "source": [
        "## Conclusões\n",
        "Nesta análise superficial na base de dados do Airbnb referente à cidade de Bangkok na Tailândia, foi possível aplicar alguns conceitos básicos de *Data Science* como: importação e manipulação de dados, visualização de gráficos e a obtenção de *insights* a partir da utilização de métodos e funções da linguagem de programação **Python**.\n",
        "\n",
        "Foi possível identificar e eliminar os *outliers* da variável `price`, obtendo um preço médio mais \"realista\".\n",
        "\n",
        "Também foi possível verificar a quantidade de imóveis disponíveis em cada bairro, as maiores e as menores médias de preço do aluguel, e ainda geramos um mapa para facilitar a visualização da localização e dos preços dos imóveis disponíveis.\n",
        "\n",
        "Por fim, lembra-se que este *dataset* é uma versão resumida, ideal apenas para uma abordagem inicial. Em uma próxima análise exploratória, recomenda-se a utilização do conjunto de dados completos, com 106 atributos disponíveis. "
      ]
    },
    {
      "cell_type": "code",
      "metadata": {
        "id": "-58CAZHffxcf"
      },
      "source": [
        ""
      ],
      "execution_count": null,
      "outputs": []
    }
  ]
}